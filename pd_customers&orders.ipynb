{
 "cells": [
  {
   "cell_type": "code",
   "execution_count": 1,
   "id": "659598c7",
   "metadata": {},
   "outputs": [],
   "source": [
    "import pandas as pd"
   ]
  },
  {
   "cell_type": "code",
   "execution_count": 20,
   "id": "61f49de9",
   "metadata": {},
   "outputs": [
    {
     "name": "stdout",
     "output_type": "stream",
     "text": [
      "         id order_date ship_mode customer_id    sales\n",
      "0  100006.0 2014-09-07  Standard    DK-13375  377.970\n",
      "1  100090.0 2014-07-08  Standard    EB-13705  699.192\n",
      "2  100293.0 2014-03-14  Standard    NF-18475   91.056\n",
      "3  100328.0 2014-01-28  Standard    JC-15340    3.928\n",
      "4  100363.0 2014-04-08  Standard    JM-15655   21.376\n"
     ]
    }
   ],
   "source": [
    "dt_read = pd.read_excel(\"c:\\Data\\orders.csv.xlsx\")\n",
    "dt_ord = pd.DataFrame(dt_read)\n",
    "print(dt_ord.head())"
   ]
  },
  {
   "cell_type": "code",
   "execution_count": 21,
   "id": "70f0c27d",
   "metadata": {},
   "outputs": [
    {
     "name": "stdout",
     "output_type": "stream",
     "text": [
      "         id             name    segment           state             city\n",
      "0  CG-12520      Claire Gute   Consumer        Kentucky        Henderson\n",
      "1  DV-13045  Darrin Van Huff  Corporate      California      Los Angeles\n",
      "2  SO-20335   Sean O'Donnell   Consumer         Florida  Fort Lauderdale\n",
      "3  BH-11710  Brosina Hoffman   Consumer      California      Los Angeles\n",
      "4  AA-10480     Andrew Allen   Consumer  North Carolina          Concord\n"
     ]
    }
   ],
   "source": [
    "dt_cust_read = pd.read_excel('c:\\Data\\customers.csv.xlsx')\n",
    "dt_cust = pd.DataFrame(dt_cust_read)\n",
    "print(dt_cust.head())"
   ]
  },
  {
   "cell_type": "code",
   "execution_count": 22,
   "id": "a54bbaec",
   "metadata": {},
   "outputs": [
    {
     "name": "stdout",
     "output_type": "stream",
     "text": [
      "(5009, 5)\n",
      "(793, 5)\n"
     ]
    }
   ],
   "source": [
    "print(dt_ord.shape)\n",
    "print(dt_cust.shape)"
   ]
  },
  {
   "cell_type": "code",
   "execution_count": 23,
   "id": "1ca3d8a3",
   "metadata": {},
   "outputs": [
    {
     "data": {
      "text/html": [
       "<div>\n",
       "<style scoped>\n",
       "    .dataframe tbody tr th:only-of-type {\n",
       "        vertical-align: middle;\n",
       "    }\n",
       "\n",
       "    .dataframe tbody tr th {\n",
       "        vertical-align: top;\n",
       "    }\n",
       "\n",
       "    .dataframe thead th {\n",
       "        text-align: right;\n",
       "    }\n",
       "</style>\n",
       "<table border=\"1\" class=\"dataframe\">\n",
       "  <thead>\n",
       "    <tr style=\"text-align: right;\">\n",
       "      <th></th>\n",
       "      <th>id</th>\n",
       "      <th>name</th>\n",
       "      <th>segment</th>\n",
       "      <th>state</th>\n",
       "      <th>city</th>\n",
       "    </tr>\n",
       "  </thead>\n",
       "  <tbody>\n",
       "    <tr>\n",
       "      <th>count</th>\n",
       "      <td>793</td>\n",
       "      <td>793</td>\n",
       "      <td>793</td>\n",
       "      <td>793</td>\n",
       "      <td>793</td>\n",
       "    </tr>\n",
       "    <tr>\n",
       "      <th>unique</th>\n",
       "      <td>793</td>\n",
       "      <td>793</td>\n",
       "      <td>3</td>\n",
       "      <td>41</td>\n",
       "      <td>252</td>\n",
       "    </tr>\n",
       "    <tr>\n",
       "      <th>top</th>\n",
       "      <td>CG-12520</td>\n",
       "      <td>Claire Gute</td>\n",
       "      <td>Consumer</td>\n",
       "      <td>California</td>\n",
       "      <td>New York City</td>\n",
       "    </tr>\n",
       "    <tr>\n",
       "      <th>freq</th>\n",
       "      <td>1</td>\n",
       "      <td>1</td>\n",
       "      <td>409</td>\n",
       "      <td>161</td>\n",
       "      <td>68</td>\n",
       "    </tr>\n",
       "  </tbody>\n",
       "</table>\n",
       "</div>"
      ],
      "text/plain": [
       "              id         name   segment       state           city\n",
       "count        793          793       793         793            793\n",
       "unique       793          793         3          41            252\n",
       "top     CG-12520  Claire Gute  Consumer  California  New York City\n",
       "freq           1            1       409         161             68"
      ]
     },
     "execution_count": 23,
     "metadata": {},
     "output_type": "execute_result"
    }
   ],
   "source": [
    "dt_ord.describe()\n"
   ]
  },
  {
   "cell_type": "code",
   "execution_count": 24,
   "id": "5d80b855",
   "metadata": {},
   "outputs": [
    {
     "data": {
      "text/html": [
       "<div>\n",
       "<style scoped>\n",
       "    .dataframe tbody tr th:only-of-type {\n",
       "        vertical-align: middle;\n",
       "    }\n",
       "\n",
       "    .dataframe tbody tr th {\n",
       "        vertical-align: top;\n",
       "    }\n",
       "\n",
       "    .dataframe thead th {\n",
       "        text-align: right;\n",
       "    }\n",
       "</style>\n",
       "<table border=\"1\" class=\"dataframe\">\n",
       "  <thead>\n",
       "    <tr style=\"text-align: right;\">\n",
       "      <th></th>\n",
       "      <th>id</th>\n",
       "      <th>name</th>\n",
       "      <th>segment</th>\n",
       "      <th>state</th>\n",
       "      <th>city</th>\n",
       "    </tr>\n",
       "  </thead>\n",
       "  <tbody>\n",
       "    <tr>\n",
       "      <th>count</th>\n",
       "      <td>793</td>\n",
       "      <td>793</td>\n",
       "      <td>793</td>\n",
       "      <td>793</td>\n",
       "      <td>793</td>\n",
       "    </tr>\n",
       "    <tr>\n",
       "      <th>unique</th>\n",
       "      <td>793</td>\n",
       "      <td>793</td>\n",
       "      <td>3</td>\n",
       "      <td>41</td>\n",
       "      <td>252</td>\n",
       "    </tr>\n",
       "    <tr>\n",
       "      <th>top</th>\n",
       "      <td>CG-12520</td>\n",
       "      <td>Claire Gute</td>\n",
       "      <td>Consumer</td>\n",
       "      <td>California</td>\n",
       "      <td>New York City</td>\n",
       "    </tr>\n",
       "    <tr>\n",
       "      <th>freq</th>\n",
       "      <td>1</td>\n",
       "      <td>1</td>\n",
       "      <td>409</td>\n",
       "      <td>161</td>\n",
       "      <td>68</td>\n",
       "    </tr>\n",
       "  </tbody>\n",
       "</table>\n",
       "</div>"
      ],
      "text/plain": [
       "              id         name   segment       state           city\n",
       "count        793          793       793         793            793\n",
       "unique       793          793         3          41            252\n",
       "top     CG-12520  Claire Gute  Consumer  California  New York City\n",
       "freq           1            1       409         161             68"
      ]
     },
     "execution_count": 24,
     "metadata": {},
     "output_type": "execute_result"
    }
   ],
   "source": [
    "dt_cust.describe()"
   ]
  },
  {
   "cell_type": "code",
   "execution_count": 28,
   "id": "e8367344",
   "metadata": {},
   "outputs": [
    {
     "name": "stdout",
     "output_type": "stream",
     "text": [
      "ship_mode\n",
      "First       3.514284e+05\n",
      "Same Day    1.283631e+05\n",
      "Second      4.591936e+05\n",
      "Standard    1.358216e+06\n",
      "Name: sales, dtype: float64\n"
     ]
    }
   ],
   "source": [
    "all_ship_mode = dt_ord.groupby('ship_mode')['sales'].sum()\n",
    "print(all_ship_mode)"
   ]
  },
  {
   "cell_type": "code",
   "execution_count": 31,
   "id": "a9bac828",
   "metadata": {},
   "outputs": [
    {
     "name": "stdout",
     "output_type": "stream",
     "text": [
      "            id order_date ship_mode customer_id     sales\n",
      "15    101147.0 2014-12-02     First    MC-17575     2.394\n",
      "22    101476.0 2014-09-12     First    SD-20485    69.990\n",
      "24    101602.0 2014-12-15     First    MC-18100   803.960\n",
      "27    101931.0 2014-10-28     First    TS-21370  1252.602\n",
      "38    103058.0 2014-07-23     First    AG-10270    99.980\n",
      "...        ...        ...       ...         ...       ...\n",
      "4986  165344.0 2017-11-13     First    SB-20290   725.079\n",
      "4988  165456.0 2017-11-30     First    TB-21625  1079.316\n",
      "4993  166324.0 2017-04-20     First    BE-11455   979.626\n",
      "5006  169488.0 2017-09-07     First    AA-10375    56.860\n",
      "5008  169551.0 2017-07-07     First    RL-19615  1344.838\n",
      "\n",
      "[787 rows x 5 columns]\n"
     ]
    }
   ],
   "source": [
    "all_ship_mode_First = dt_ord['ship_mode'] == 'First'\n",
    "print(dt_ord[all_ship_mode_First])"
   ]
  },
  {
   "cell_type": "code",
   "execution_count": 36,
   "id": "99849dd9",
   "metadata": {},
   "outputs": [
    {
     "name": "stdout",
     "output_type": "stream",
     "text": [
      "            id order_date ship_mode customer_id    sales\n",
      "3663  143259.0 2017-12-30  Standard    PO-18865  466.842\n"
     ]
    }
   ],
   "source": [
    "end_date = dt_ord.sort_values(by=\"order_date\", ascending=False).head(1)\n",
    "print(end_date)"
   ]
  },
  {
   "cell_type": "code",
   "execution_count": 46,
   "id": "c0709459",
   "metadata": {},
   "outputs": [
    {
     "name": "stdout",
     "output_type": "stream",
     "text": [
      "            id order_date ship_mode customer_id     sales\n",
      "15    101147.0 2014-12-02     First    MC-17575     2.394\n",
      "22    101476.0 2014-09-12     First    SD-20485    69.990\n",
      "24    101602.0 2014-12-15     First    MC-18100   803.960\n",
      "27    101931.0 2014-10-28     First    TS-21370  1252.602\n",
      "38    103058.0 2014-07-23     First    AG-10270    99.980\n",
      "...        ...        ...       ...         ...       ...\n",
      "4986  165344.0 2017-11-13     First    SB-20290   725.079\n",
      "4988  165456.0 2017-11-30     First    TB-21625  1079.316\n",
      "4993  166324.0 2017-04-20     First    BE-11455   979.626\n",
      "5006  169488.0 2017-09-07     First    AA-10375    56.860\n",
      "5008  169551.0 2017-07-07     First    RL-19615  1344.838\n",
      "\n",
      "[787 rows x 5 columns]\n"
     ]
    }
   ],
   "source": [
    "\n",
    "orders_for_5_years = dt_ord.query('order_date <= \"2017-12-30\" & order_date >= \"2013-01-01\"')[all_ship_mode_First]\n",
    "print(orders_for_5_years)"
   ]
  },
  {
   "cell_type": "code",
   "execution_count": 49,
   "id": "6f5b00ef",
   "metadata": {},
   "outputs": [
    {
     "data": {
      "text/plain": [
       "787"
      ]
     },
     "execution_count": 49,
     "metadata": {},
     "output_type": "execute_result"
    }
   ],
   "source": [
    "len(orders_for_5_years)\n"
   ]
  },
  {
   "cell_type": "code",
   "execution_count": 50,
   "id": "f047008b",
   "metadata": {},
   "outputs": [
    {
     "data": {
      "text/plain": [
       "793"
      ]
     },
     "execution_count": 50,
     "metadata": {},
     "output_type": "execute_result"
    }
   ],
   "source": [
    "len(dt_cust['state'] == 'California')"
   ]
  },
  {
   "cell_type": "code",
   "execution_count": 56,
   "id": "0c1c6324",
   "metadata": {},
   "outputs": [
    {
     "data": {
      "text/plain": [
       "161"
      ]
     },
     "execution_count": 56,
     "metadata": {},
     "output_type": "execute_result"
    }
   ],
   "source": [
    "dt_cust[dt_cust['state'] == 'California']['id'].nunique()\n"
   ]
  },
  {
   "cell_type": "code",
   "execution_count": 68,
   "id": "41588af2",
   "metadata": {},
   "outputs": [
    {
     "name": "stdout",
     "output_type": "stream",
     "text": [
      "161\n"
     ]
    }
   ],
   "source": [
    "dt_cust_California = dt_cust[dt_cust['state'] == 'California']\n",
    "print(len(dt_cust_California))"
   ]
  },
  {
   "cell_type": "code",
   "execution_count": 73,
   "id": "0f827827",
   "metadata": {},
   "outputs": [
    {
     "name": "stdout",
     "output_type": "stream",
     "text": [
      "1006\n"
     ]
    }
   ],
   "source": [
    "dt_ord_from_California = pd.merge(dt_ord, dt_cust_California, how='inner', left_on=('customer_id'), right_on=('id'))\n",
    "print(len(dt_ord_from_California))"
   ]
  },
  {
   "cell_type": "code",
   "execution_count": 80,
   "id": "d64939fa",
   "metadata": {},
   "outputs": [
    {
     "name": "stdout",
     "output_type": "stream",
     "text": [
      "          id_x order_date ship_mode customer_id     sales      id_y  \\\n",
      "0     100328.0 2014-01-28  Standard    JC-15340     3.928  JC-15340   \n",
      "1     102792.0 2016-12-13  Standard    JC-15340     9.840  JC-15340   \n",
      "2     154536.0 2016-09-05  Standard    JC-15340     9.555  JC-15340   \n",
      "3     129441.0 2017-09-07  Standard    JC-15340    47.940  JC-15340   \n",
      "4     100678.0 2014-04-18  Standard    KM-16720   697.074  KM-16720   \n",
      "...        ...        ...       ...         ...       ...       ...   \n",
      "1001  162978.0 2017-05-04  Standard    LW-16990   502.474  LW-16990   \n",
      "1002  102239.0 2016-05-05     First    LW-16990  1691.608  LW-16990   \n",
      "1003  118542.0 2017-12-01  Standard    CC-12550    55.488  CC-12550   \n",
      "1004  123071.0 2017-12-03     First    CC-12550    10.368  CC-12550   \n",
      "1005  169901.0 2017-06-15  Standard    CC-12550    47.976  CC-12550   \n",
      "\n",
      "                  name    segment       state           city  \n",
      "0      Jasper Cacioppo   Consumer  California    Los Angeles  \n",
      "1      Jasper Cacioppo   Consumer  California    Los Angeles  \n",
      "2      Jasper Cacioppo   Consumer  California    Los Angeles  \n",
      "3      Jasper Cacioppo   Consumer  California    Los Angeles  \n",
      "4         Kunst Miller   Consumer  California    Los Angeles  \n",
      "...                ...        ...         ...            ...  \n",
      "1001  Lindsay Williams  Corporate  California  San Francisco  \n",
      "1002  Lindsay Williams  Corporate  California  San Francisco  \n",
      "1003     Clay Cheatham   Consumer  California  San Francisco  \n",
      "1004     Clay Cheatham   Consumer  California  San Francisco  \n",
      "1005     Clay Cheatham   Consumer  California  San Francisco  \n",
      "\n",
      "[1006 rows x 10 columns]\n"
     ]
    }
   ],
   "source": [
    "dt_ord_from_C = dt_ord.merge(dt_cust[dt_cust['state']=='California'], how='inner', left_on='customer_id', right_on='id')\n",
    "print(dt_ord_from_C)"
   ]
  },
  {
   "cell_type": "code",
   "execution_count": 77,
   "id": "4c01440b",
   "metadata": {},
   "outputs": [
    {
     "data": {
      "text/html": [
       "<div>\n",
       "<style scoped>\n",
       "    .dataframe tbody tr th:only-of-type {\n",
       "        vertical-align: middle;\n",
       "    }\n",
       "\n",
       "    .dataframe tbody tr th {\n",
       "        vertical-align: top;\n",
       "    }\n",
       "\n",
       "    .dataframe thead th {\n",
       "        text-align: right;\n",
       "    }\n",
       "</style>\n",
       "<table border=\"1\" class=\"dataframe\">\n",
       "  <thead>\n",
       "    <tr style=\"text-align: right;\">\n",
       "      <th></th>\n",
       "      <th>id</th>\n",
       "      <th>name</th>\n",
       "      <th>segment</th>\n",
       "      <th>state</th>\n",
       "      <th>city</th>\n",
       "    </tr>\n",
       "  </thead>\n",
       "  <tbody>\n",
       "    <tr>\n",
       "      <th>1</th>\n",
       "      <td>DV-13045</td>\n",
       "      <td>Darrin Van Huff</td>\n",
       "      <td>Corporate</td>\n",
       "      <td>California</td>\n",
       "      <td>Los Angeles</td>\n",
       "    </tr>\n",
       "    <tr>\n",
       "      <th>3</th>\n",
       "      <td>BH-11710</td>\n",
       "      <td>Brosina Hoffman</td>\n",
       "      <td>Consumer</td>\n",
       "      <td>California</td>\n",
       "      <td>Los Angeles</td>\n",
       "    </tr>\n",
       "    <tr>\n",
       "      <th>9</th>\n",
       "      <td>ZD-21925</td>\n",
       "      <td>Zuschuss Donatelli</td>\n",
       "      <td>Consumer</td>\n",
       "      <td>California</td>\n",
       "      <td>San Francisco</td>\n",
       "    </tr>\n",
       "    <tr>\n",
       "      <th>13</th>\n",
       "      <td>EH-13945</td>\n",
       "      <td>Eric Hoffmann</td>\n",
       "      <td>Consumer</td>\n",
       "      <td>California</td>\n",
       "      <td>Los Angeles</td>\n",
       "    </tr>\n",
       "    <tr>\n",
       "      <th>19</th>\n",
       "      <td>RA-19885</td>\n",
       "      <td>Ruben Ausman</td>\n",
       "      <td>Corporate</td>\n",
       "      <td>California</td>\n",
       "      <td>Los Angeles</td>\n",
       "    </tr>\n",
       "    <tr>\n",
       "      <th>...</th>\n",
       "      <td>...</td>\n",
       "      <td>...</td>\n",
       "      <td>...</td>\n",
       "      <td>...</td>\n",
       "      <td>...</td>\n",
       "    </tr>\n",
       "    <tr>\n",
       "      <th>770</th>\n",
       "      <td>DO-13645</td>\n",
       "      <td>Doug O'Connell</td>\n",
       "      <td>Consumer</td>\n",
       "      <td>California</td>\n",
       "      <td>Los Angeles</td>\n",
       "    </tr>\n",
       "    <tr>\n",
       "      <th>774</th>\n",
       "      <td>AO-10810</td>\n",
       "      <td>Anthony O'Donnell</td>\n",
       "      <td>Corporate</td>\n",
       "      <td>California</td>\n",
       "      <td>Los Angeles</td>\n",
       "    </tr>\n",
       "    <tr>\n",
       "      <th>778</th>\n",
       "      <td>VP-21760</td>\n",
       "      <td>Victoria Pisteka</td>\n",
       "      <td>Corporate</td>\n",
       "      <td>California</td>\n",
       "      <td>San Francisco</td>\n",
       "    </tr>\n",
       "    <tr>\n",
       "      <th>780</th>\n",
       "      <td>IM-15055</td>\n",
       "      <td>Ionia McGrath</td>\n",
       "      <td>Consumer</td>\n",
       "      <td>California</td>\n",
       "      <td>Roseville</td>\n",
       "    </tr>\n",
       "    <tr>\n",
       "      <th>786</th>\n",
       "      <td>BD-11560</td>\n",
       "      <td>Brendan Dodson</td>\n",
       "      <td>Home Office</td>\n",
       "      <td>California</td>\n",
       "      <td>Fresno</td>\n",
       "    </tr>\n",
       "  </tbody>\n",
       "</table>\n",
       "<p>161 rows × 5 columns</p>\n",
       "</div>"
      ],
      "text/plain": [
       "           id                name      segment       state           city\n",
       "1    DV-13045     Darrin Van Huff    Corporate  California    Los Angeles\n",
       "3    BH-11710     Brosina Hoffman     Consumer  California    Los Angeles\n",
       "9    ZD-21925  Zuschuss Donatelli     Consumer  California  San Francisco\n",
       "13   EH-13945       Eric Hoffmann     Consumer  California    Los Angeles\n",
       "19   RA-19885        Ruben Ausman    Corporate  California    Los Angeles\n",
       "..        ...                 ...          ...         ...            ...\n",
       "770  DO-13645      Doug O'Connell     Consumer  California    Los Angeles\n",
       "774  AO-10810   Anthony O'Donnell    Corporate  California    Los Angeles\n",
       "778  VP-21760    Victoria Pisteka    Corporate  California  San Francisco\n",
       "780  IM-15055       Ionia McGrath     Consumer  California      Roseville\n",
       "786  BD-11560      Brendan Dodson  Home Office  California         Fresno\n",
       "\n",
       "[161 rows x 5 columns]"
      ]
     },
     "execution_count": 77,
     "metadata": {},
     "output_type": "execute_result"
    }
   ],
   "source": [
    "dt_cust[dt_cust['state']=='California']"
   ]
  },
  {
   "cell_type": "code",
   "execution_count": null,
   "id": "56799d15",
   "metadata": {},
   "outputs": [],
   "source": []
  }
 ],
 "metadata": {
  "kernelspec": {
   "display_name": "Python 3 (ipykernel)",
   "language": "python",
   "name": "python3"
  },
  "language_info": {
   "codemirror_mode": {
    "name": "ipython",
    "version": 3
   },
   "file_extension": ".py",
   "mimetype": "text/x-python",
   "name": "python",
   "nbconvert_exporter": "python",
   "pygments_lexer": "ipython3",
   "version": "3.9.12"
  }
 },
 "nbformat": 4,
 "nbformat_minor": 5
}
